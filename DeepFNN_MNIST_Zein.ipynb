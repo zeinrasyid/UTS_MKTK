{
  "nbformat": 4,
  "nbformat_minor": 0,
  "metadata": {
    "colab": {
      "name": "DeepFNN_MNIST - Zein.ipynb",
      "provenance": []
    },
    "kernelspec": {
      "name": "python3",
      "display_name": "Python 3"
    },
    "language_info": {
      "name": "python"
    }
  },
  "cells": [
    {
      "cell_type": "markdown",
      "metadata": {
        "id": "pLqqcEi8rRAu"
      },
      "source": [
        "import libraries"
      ]
    },
    {
      "cell_type": "code",
      "metadata": {
        "id": "k3hJ875pbMQd"
      },
      "source": [
        "import tensorflow as tf\n",
        "from tensorflow import keras\n",
        "from keras.models import Sequential\n",
        "from keras.datasets import mnist\n",
        "from keras.layers.core import Dense,Activation,Flatten\n",
        "import numpy as np\n",
        "import matplotlib.pyplot as plt\n",
        "import matplotlib.image as mpimg\n",
        "from keras.preprocessing import image"
      ],
      "execution_count": 1,
      "outputs": []
    },
    {
      "cell_type": "markdown",
      "metadata": {
        "id": "zkUViDTDrTty"
      },
      "source": [
        "load data"
      ]
    },
    {
      "cell_type": "code",
      "metadata": {
        "id": "nbe3yW3wbOme",
        "colab": {
          "base_uri": "https://localhost:8080/"
        },
        "outputId": "3c9eaf61-42d7-48c7-c1e5-587bda889782"
      },
      "source": [
        "#load data\n",
        "(train_x, train_y), (test_x,test_y)= mnist.load_data()\n",
        "\n",
        "#split the data\n",
        "num_train = 2000\n",
        "train_x = train_x[:num_train]\n",
        "train_y = train_y[:num_train]\n",
        "\n",
        "num_test = 2000\n",
        "test_x = test_x[:num_test]\n",
        "test_y = test_y[:num_test]"
      ],
      "execution_count": 2,
      "outputs": [
        {
          "output_type": "stream",
          "name": "stdout",
          "text": [
            "Downloading data from https://storage.googleapis.com/tensorflow/tf-keras-datasets/mnist.npz\n",
            "11493376/11490434 [==============================] - 0s 0us/step\n",
            "11501568/11490434 [==============================] - 0s 0us/step\n"
          ]
        }
      ]
    },
    {
      "cell_type": "markdown",
      "metadata": {
        "id": "q2NmulU0rYWS"
      },
      "source": [
        "preprocessing"
      ]
    },
    {
      "cell_type": "code",
      "metadata": {
        "id": "mCCqeF_4bUrE"
      },
      "source": [
        "#convert input to one hot\n",
        "np.set_printoptions(linewidth=200)\n",
        "#print(np.array(train_x[0]))\n",
        "x = np.array([[[1 if dd>0 else 0 for dd in m] for m in x] for x in train_x])\n",
        "x_test = np.array([[[1 if dd>0 else 0 for dd in m] for m in x] for x in test_x])\n",
        "#print(np.array(x[0]))\n",
        "\n",
        "#convert target to one hot\n",
        "#print(train_y[0])\n",
        "y = tf.keras.utils.to_categorical(train_y)\n",
        "y_test =  tf.keras.utils.to_categorical(train_y) \n",
        "#print(y[0])"
      ],
      "execution_count": 3,
      "outputs": []
    },
    {
      "cell_type": "markdown",
      "metadata": {
        "id": "HjkQdvPtrbFy"
      },
      "source": [
        "model"
      ]
    },
    {
      "cell_type": "code",
      "metadata": {
        "id": "QL6WUHjbbc0p",
        "colab": {
          "base_uri": "https://localhost:8080/"
        },
        "outputId": "d3930d0b-9140-4a96-a286-43026aa4c146"
      },
      "source": [
        " num_uotput = y.shape[1]\n",
        "\n",
        " #model\n",
        " model = Sequential()\n",
        "\n",
        " model.add(Flatten(input_shape=(28,28)))\n",
        " model.add(Dense(512, activation='relu'))\n",
        " model.add(Dense(256, activation='relu'))\n",
        " model.add(Dense(128, activation='relu'))\n",
        " model.add(Dense(64, activation='relu'))\n",
        " \n",
        " model.add(Dense(num_uotput))\n",
        " model.add(Activation('relu'))\n",
        "\n",
        " model.compile(loss='binary_crossentropy', optimizer='adam', metrics=['accuracy'])\n",
        " history = model.fit(x,y, validation_data=(x_test,y_test), batch_size=1, epochs=20)"
      ],
      "execution_count": 4,
      "outputs": [
        {
          "output_type": "stream",
          "name": "stdout",
          "text": [
            "Epoch 1/20\n",
            "2000/2000 [==============================] - 10s 5ms/step - loss: 1.5406 - accuracy: 0.0955 - val_loss: 1.5425 - val_accuracy: 0.0955\n",
            "Epoch 2/20\n",
            "2000/2000 [==============================] - 9s 4ms/step - loss: 1.5420 - accuracy: 0.0960 - val_loss: 1.5425 - val_accuracy: 0.0955\n",
            "Epoch 3/20\n",
            "2000/2000 [==============================] - 9s 4ms/step - loss: 1.5425 - accuracy: 0.0955 - val_loss: 1.5425 - val_accuracy: 0.0955\n",
            "Epoch 4/20\n",
            "2000/2000 [==============================] - 8s 4ms/step - loss: 1.5425 - accuracy: 0.0955 - val_loss: 1.5425 - val_accuracy: 0.0955\n",
            "Epoch 5/20\n",
            "2000/2000 [==============================] - 9s 4ms/step - loss: 1.5425 - accuracy: 0.0955 - val_loss: 1.5425 - val_accuracy: 0.0955\n",
            "Epoch 6/20\n",
            "2000/2000 [==============================] - 9s 4ms/step - loss: 1.5425 - accuracy: 0.0955 - val_loss: 1.5425 - val_accuracy: 0.0955\n",
            "Epoch 7/20\n",
            "2000/2000 [==============================] - 8s 4ms/step - loss: 1.5425 - accuracy: 0.0955 - val_loss: 1.5425 - val_accuracy: 0.0955\n",
            "Epoch 8/20\n",
            "2000/2000 [==============================] - 8s 4ms/step - loss: 1.5425 - accuracy: 0.0955 - val_loss: 1.5425 - val_accuracy: 0.0955\n",
            "Epoch 9/20\n",
            "2000/2000 [==============================] - 9s 4ms/step - loss: 1.5425 - accuracy: 0.0955 - val_loss: 1.5425 - val_accuracy: 0.0955\n",
            "Epoch 10/20\n",
            "2000/2000 [==============================] - 9s 4ms/step - loss: 1.5425 - accuracy: 0.0955 - val_loss: 1.5425 - val_accuracy: 0.0955\n",
            "Epoch 11/20\n",
            "2000/2000 [==============================] - 8s 4ms/step - loss: 1.5425 - accuracy: 0.0955 - val_loss: 1.5425 - val_accuracy: 0.0955\n",
            "Epoch 12/20\n",
            "2000/2000 [==============================] - 8s 4ms/step - loss: 1.5425 - accuracy: 0.0955 - val_loss: 1.5425 - val_accuracy: 0.0955\n",
            "Epoch 13/20\n",
            "2000/2000 [==============================] - 9s 4ms/step - loss: 1.5425 - accuracy: 0.0955 - val_loss: 1.5425 - val_accuracy: 0.0955\n",
            "Epoch 14/20\n",
            "2000/2000 [==============================] - 9s 4ms/step - loss: 1.5425 - accuracy: 0.0955 - val_loss: 1.5425 - val_accuracy: 0.0955\n",
            "Epoch 15/20\n",
            "2000/2000 [==============================] - 8s 4ms/step - loss: 1.5425 - accuracy: 0.0955 - val_loss: 1.5425 - val_accuracy: 0.0955\n",
            "Epoch 16/20\n",
            "2000/2000 [==============================] - 9s 4ms/step - loss: 1.5425 - accuracy: 0.0955 - val_loss: 1.5425 - val_accuracy: 0.0955\n",
            "Epoch 17/20\n",
            "2000/2000 [==============================] - 9s 4ms/step - loss: 1.5425 - accuracy: 0.0955 - val_loss: 1.5425 - val_accuracy: 0.0955\n",
            "Epoch 18/20\n",
            "2000/2000 [==============================] - 9s 4ms/step - loss: 1.5425 - accuracy: 0.0955 - val_loss: 1.5425 - val_accuracy: 0.0955\n",
            "Epoch 19/20\n",
            "2000/2000 [==============================] - 8s 4ms/step - loss: 1.5425 - accuracy: 0.0955 - val_loss: 1.5425 - val_accuracy: 0.0955\n",
            "Epoch 20/20\n",
            "2000/2000 [==============================] - 9s 4ms/step - loss: 1.5425 - accuracy: 0.0955 - val_loss: 1.5425 - val_accuracy: 0.0955\n"
          ]
        }
      ]
    }
  ]
}